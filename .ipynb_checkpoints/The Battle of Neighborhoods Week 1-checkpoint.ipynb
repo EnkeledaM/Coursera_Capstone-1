{
 "cells": [
  {
   "cell_type": "markdown",
   "metadata": {},
   "source": [
    "*Clearly define a problem or an idea of your choice, where you would need to leverage the Foursquare location data to solve or execute. Remember that data science problems always target an audience and are meant to help a group of stakeholders solve a problem, so make sure that you explicitly describe your audience and why they would care about your problem.*\n",
    "\n",
    "*This submission will eventually become your Introduction/Business Problem section in your final report. So I recommend that you push the report (having your Introduction/Business Problem section only for now) to your Github repository and submit a link to it.*"
   ]
  },
  {
   "cell_type": "markdown",
   "metadata": {},
   "source": [
    "# Introduction/Business Problem\n",
    "*A description of the problem and a discussion of the background. (15 marks)*"
   ]
  },
  {
   "cell_type": "markdown",
   "metadata": {},
   "source": [
    "**A real estate development and investment company is trying to identify and shortlist retail opportunities in the Greater Toronto area based on trends and popularity. How can the company use social trends to select popular venues, identify characteristics of the venues, and pick new locations with similar characteristics has high growth potential?**"
   ]
  },
  {
   "cell_type": "markdown",
   "metadata": {},
   "source": [
    "*Describe the data that you will be using to solve the problem or execute your idea. Remember that you will need to use the Foursquare location data to solve the problem or execute your idea. You can absolutely use other datasets in combination with the Foursquare location data. So make sure that you provide adequate explanation and discussion, with examples, of the data that you will be using, even if it is only Foursquare location data.*\n",
    "\n",
    "*This submission will eventually become your Data section in your final report. So I recommend that you push the report (having your Data section) to your Github repository and submit a link to it.*"
   ]
  },
  {
   "cell_type": "markdown",
   "metadata": {},
   "source": [
    "# Data\n",
    "*A description of the data and how it will be used to solve the problem. (15 marks)*"
   ]
  },
  {
   "cell_type": "markdown",
   "metadata": {},
   "source": [
    "I plan to use the following data sets:\n",
    "1. Toronto neighborhoods from the weeks 3 exercise, i.e. Borough, Neighborhood, and coordinates\n",
    "2. Foursquare Places API for Venues\n",
    "\n",
    "Approach:\n",
    "1. Combine the Neighborhoods and Foursquare venue data. This leverage existing work from the Week 3 assignment.\n",
    "2. Select the top 3 venues from combined data based on ratings.\n",
    "3. Determine the category of the venues and the neighborhoods they are located.\n",
    "4. Analyze characteristics of the neighborhoods.\n",
    "5. Use clustering to find neighborhoods with similar characteristics.\n",
    "6. Search for venues by categories identified (step 3) in the neighborhoods (step 5).\n",
    "7. Analyze venues by relevant information, characteristics and ratings.\n",
    "8. Develop recommendation based on analysis and data points."
   ]
  }
 ],
 "metadata": {
  "kernelspec": {
   "display_name": "Python 3",
   "language": "python",
   "name": "python3"
  },
  "language_info": {
   "codemirror_mode": {
    "name": "ipython",
    "version": 3
   },
   "file_extension": ".py",
   "mimetype": "text/x-python",
   "name": "python",
   "nbconvert_exporter": "python",
   "pygments_lexer": "ipython3",
   "version": "3.5.4"
  }
 },
 "nbformat": 4,
 "nbformat_minor": 2
}
